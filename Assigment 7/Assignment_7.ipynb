{
  "nbformat": 4,
  "nbformat_minor": 0,
  "metadata": {
    "colab": {
      "name": "Assignment_7",
      "provenance": [],
      "collapsed_sections": []
    },
    "kernelspec": {
      "name": "python3",
      "display_name": "Python 3"
    }
  },
  "cells": [
    {
      "cell_type": "code",
      "metadata": {
        "id": "B-PrYy_5W7yk",
        "colab": {
          "base_uri": "https://localhost:8080/"
        },
        "outputId": "5ed8c397-524e-470e-b6c5-9c82b98eb68f"
      },
      "source": [
        "import pandas as pd\r\n",
        "\r\n",
        "data = pd.read_csv(\"LoadDatainkW.csv\")\r\n",
        "data.head()\r\n",
        "data.shape"
      ],
      "execution_count": 6,
      "outputs": [
        {
          "output_type": "execute_result",
          "data": {
            "text/plain": [
              "(2184, 10)"
            ]
          },
          "metadata": {
            "tags": []
          },
          "execution_count": 6
        }
      ]
    },
    {
      "cell_type": "code",
      "metadata": {
        "id": "yO6UGt0uX2Gk",
        "colab": {
          "base_uri": "https://localhost:8080/"
        },
        "outputId": "c309d7d0-126d-4416-ed6b-9927499e4d94"
      },
      "source": [
        "day_1 = data.iloc[0:-24, 2]\r\n",
        "day_2 = data.iloc[24:, 2]\r\n",
        "print(day_1.shape)\r\n",
        "print(day_2.shape)"
      ],
      "execution_count": 7,
      "outputs": [
        {
          "output_type": "stream",
          "text": [
            "(2160,)\n",
            "(2160,)\n"
          ],
          "name": "stdout"
        }
      ]
    },
    {
      "cell_type": "code",
      "metadata": {
        "id": "RJLiSTmBX65d"
      },
      "source": [
        "#The index of day_2 series starts from 24, so resetting the index\r\n",
        "day_2 = day_2.reset_index()\r\n",
        "day_2 = day_2['Load (kW)']"
      ],
      "execution_count": 8,
      "outputs": []
    },
    {
      "cell_type": "code",
      "metadata": {
        "id": "W43fJdp0X9NL",
        "colab": {
          "base_uri": "https://localhost:8080/"
        },
        "outputId": "633daf6d-bff3-44ac-e86a-941ff946c40a"
      },
      "source": [
        "df = pd.concat([day_1, day_2], axis = 1)\r\n",
        "df.shape"
      ],
      "execution_count": 9,
      "outputs": [
        {
          "output_type": "execute_result",
          "data": {
            "text/plain": [
              "(2160, 2)"
            ]
          },
          "metadata": {
            "tags": []
          },
          "execution_count": 9
        }
      ]
    },
    {
      "cell_type": "code",
      "metadata": {
        "id": "D74w5vylX__e",
        "colab": {
          "base_uri": "https://localhost:8080/"
        },
        "outputId": "6f0e2635-a380-4627-980c-651ee50a9323"
      },
      "source": [
        "df.columns = ['Day_1', 'Day_2']\r\n",
        "df.head"
      ],
      "execution_count": 10,
      "outputs": [
        {
          "output_type": "execute_result",
          "data": {
            "text/plain": [
              "<bound method NDFrame.head of            Day_1       Day_2\n",
              "0     5551.82208  4931.26380\n",
              "1     4983.17184  4775.53968\n",
              "2     4888.39680  4713.81120\n",
              "3     5072.95872  4689.02628\n",
              "4     5196.25980  4844.75040\n",
              "...          ...         ...\n",
              "2155  4643.97696  4626.51840\n",
              "2156  5813.70048  4567.90752\n",
              "2157  7115.92200  4723.63164\n",
              "2158  6189.99480  5150.27520\n",
              "2159  5657.97636  6938.37468\n",
              "\n",
              "[2160 rows x 2 columns]>"
            ]
          },
          "metadata": {
            "tags": []
          },
          "execution_count": 10
        }
      ]
    },
    {
      "cell_type": "code",
      "metadata": {
        "id": "oC8L8p5uYDFO",
        "colab": {
          "base_uri": "https://localhost:8080/",
          "height": 195
        },
        "outputId": "aab7ccb1-de41-4b8c-9aae-4782ca6805ab"
      },
      "source": [
        "normalized_df = (df-df.mean())/df.std()\r\n",
        "normalized_df.head()"
      ],
      "execution_count": 11,
      "outputs": [
        {
          "output_type": "execute_result",
          "data": {
            "text/html": [
              "<div>\n",
              "<style scoped>\n",
              "    .dataframe tbody tr th:only-of-type {\n",
              "        vertical-align: middle;\n",
              "    }\n",
              "\n",
              "    .dataframe tbody tr th {\n",
              "        vertical-align: top;\n",
              "    }\n",
              "\n",
              "    .dataframe thead th {\n",
              "        text-align: right;\n",
              "    }\n",
              "</style>\n",
              "<table border=\"1\" class=\"dataframe\">\n",
              "  <thead>\n",
              "    <tr style=\"text-align: right;\">\n",
              "      <th></th>\n",
              "      <th>Day_1</th>\n",
              "      <th>Day_2</th>\n",
              "    </tr>\n",
              "  </thead>\n",
              "  <tbody>\n",
              "    <tr>\n",
              "      <th>0</th>\n",
              "      <td>-0.454862</td>\n",
              "      <td>-1.026890</td>\n",
              "    </tr>\n",
              "    <tr>\n",
              "      <th>1</th>\n",
              "      <td>-0.988072</td>\n",
              "      <td>-1.172657</td>\n",
              "    </tr>\n",
              "    <tr>\n",
              "      <th>2</th>\n",
              "      <td>-1.076940</td>\n",
              "      <td>-1.230438</td>\n",
              "    </tr>\n",
              "    <tr>\n",
              "      <th>3</th>\n",
              "      <td>-0.903881</td>\n",
              "      <td>-1.253638</td>\n",
              "    </tr>\n",
              "    <tr>\n",
              "      <th>4</th>\n",
              "      <td>-0.788264</td>\n",
              "      <td>-1.107871</td>\n",
              "    </tr>\n",
              "  </tbody>\n",
              "</table>\n",
              "</div>"
            ],
            "text/plain": [
              "      Day_1     Day_2\n",
              "0 -0.454862 -1.026890\n",
              "1 -0.988072 -1.172657\n",
              "2 -1.076940 -1.230438\n",
              "3 -0.903881 -1.253638\n",
              "4 -0.788264 -1.107871"
            ]
          },
          "metadata": {
            "tags": []
          },
          "execution_count": 11
        }
      ]
    },
    {
      "cell_type": "code",
      "metadata": {
        "id": "nNW-A9DiYHJ2"
      },
      "source": [
        "from sklearn.model_selection import train_test_split\r\n",
        "x_train, x_test, y_train, y_test = train_test_split(normalized_df.Day_1, normalized_df.Day_2, test_size = 0.10, random_state = 42)"
      ],
      "execution_count": 12,
      "outputs": []
    },
    {
      "cell_type": "code",
      "metadata": {
        "id": "klr-BaRDYMY5",
        "colab": {
          "base_uri": "https://localhost:8080/"
        },
        "outputId": "912841aa-67b0-4d13-8699-45477bc1a20c"
      },
      "source": [
        "m = 1 #Initial value of slope\r\n",
        "c = -1 #Initial value of intercept\r\n",
        "lr = 0.01 #Learning Rate\r\n",
        "delta_m = 1 #Initialising Δm\r\n",
        "delta_c = 1 #Initialising Δc\r\n",
        "v_m = 0\r\n",
        "v_c = 0\r\n",
        "lam = 0.9\r\n",
        "max_iters = 100 #Maximum number of iterations  \r\n",
        "iters_count = 0 #Counting Iterations\r\n",
        "\r\n",
        "\r\n",
        "def deriv(m_f, c_f, x, y):\r\n",
        "  m_deriv = -1*(y-m_f*x-c_f)*x\r\n",
        "  c_deriv = -1*(y-m_f*x-c_f)\r\n",
        "  return m_deriv, c_deriv  \r\n",
        "\r\n",
        "\r\n",
        "while iters_count < max_iters:\r\n",
        "  for i in range(x_train.shape[0]):\r\n",
        "    delta_m, delta_c = deriv(m, c, x_train.iloc[i], y_train.iloc[i])\r\n",
        "    v_m = lam * v_m - lr * delta_m\r\n",
        "    v_c = lam * v_c - lr * delta_c\r\n",
        "    m += v_m\r\n",
        "    c += v_c\r\n",
        "  iters_count += 1\r\n",
        "  print(f\"Iteration: {iters_count}\\tValue of m: {m}, \\tValue of c: {c}\")"
      ],
      "execution_count": 13,
      "outputs": [
        {
          "output_type": "stream",
          "text": [
            "Iteration: 1\tValue of m: 0.8885266666378754, \tValue of c: -0.015125603603097632\n",
            "Iteration: 2\tValue of m: 0.8885266666378754, \tValue of c: -0.015125603603097632\n",
            "Iteration: 3\tValue of m: 0.8885266666378754, \tValue of c: -0.015125603603097632\n",
            "Iteration: 4\tValue of m: 0.8885266666378754, \tValue of c: -0.015125603603097632\n",
            "Iteration: 5\tValue of m: 0.8885266666378754, \tValue of c: -0.015125603603097632\n",
            "Iteration: 6\tValue of m: 0.8885266666378754, \tValue of c: -0.015125603603097632\n",
            "Iteration: 7\tValue of m: 0.8885266666378754, \tValue of c: -0.015125603603097632\n",
            "Iteration: 8\tValue of m: 0.8885266666378754, \tValue of c: -0.015125603603097632\n",
            "Iteration: 9\tValue of m: 0.8885266666378754, \tValue of c: -0.015125603603097632\n",
            "Iteration: 10\tValue of m: 0.8885266666378754, \tValue of c: -0.015125603603097632\n",
            "Iteration: 11\tValue of m: 0.8885266666378754, \tValue of c: -0.015125603603097632\n",
            "Iteration: 12\tValue of m: 0.8885266666378754, \tValue of c: -0.015125603603097632\n",
            "Iteration: 13\tValue of m: 0.8885266666378754, \tValue of c: -0.015125603603097632\n",
            "Iteration: 14\tValue of m: 0.8885266666378754, \tValue of c: -0.015125603603097632\n",
            "Iteration: 15\tValue of m: 0.8885266666378754, \tValue of c: -0.015125603603097632\n",
            "Iteration: 16\tValue of m: 0.8885266666378754, \tValue of c: -0.015125603603097632\n",
            "Iteration: 17\tValue of m: 0.8885266666378754, \tValue of c: -0.015125603603097632\n",
            "Iteration: 18\tValue of m: 0.8885266666378754, \tValue of c: -0.015125603603097632\n",
            "Iteration: 19\tValue of m: 0.8885266666378754, \tValue of c: -0.015125603603097632\n",
            "Iteration: 20\tValue of m: 0.8885266666378754, \tValue of c: -0.015125603603097632\n",
            "Iteration: 21\tValue of m: 0.8885266666378754, \tValue of c: -0.015125603603097632\n",
            "Iteration: 22\tValue of m: 0.8885266666378754, \tValue of c: -0.015125603603097632\n",
            "Iteration: 23\tValue of m: 0.8885266666378754, \tValue of c: -0.015125603603097632\n",
            "Iteration: 24\tValue of m: 0.8885266666378754, \tValue of c: -0.015125603603097632\n",
            "Iteration: 25\tValue of m: 0.8885266666378754, \tValue of c: -0.015125603603097632\n",
            "Iteration: 26\tValue of m: 0.8885266666378754, \tValue of c: -0.015125603603097632\n",
            "Iteration: 27\tValue of m: 0.8885266666378754, \tValue of c: -0.015125603603097632\n",
            "Iteration: 28\tValue of m: 0.8885266666378754, \tValue of c: -0.015125603603097632\n",
            "Iteration: 29\tValue of m: 0.8885266666378754, \tValue of c: -0.015125603603097632\n",
            "Iteration: 30\tValue of m: 0.8885266666378754, \tValue of c: -0.015125603603097632\n",
            "Iteration: 31\tValue of m: 0.8885266666378754, \tValue of c: -0.015125603603097632\n",
            "Iteration: 32\tValue of m: 0.8885266666378754, \tValue of c: -0.015125603603097632\n",
            "Iteration: 33\tValue of m: 0.8885266666378754, \tValue of c: -0.015125603603097632\n",
            "Iteration: 34\tValue of m: 0.8885266666378754, \tValue of c: -0.015125603603097632\n",
            "Iteration: 35\tValue of m: 0.8885266666378754, \tValue of c: -0.015125603603097632\n",
            "Iteration: 36\tValue of m: 0.8885266666378754, \tValue of c: -0.015125603603097632\n",
            "Iteration: 37\tValue of m: 0.8885266666378754, \tValue of c: -0.015125603603097632\n",
            "Iteration: 38\tValue of m: 0.8885266666378754, \tValue of c: -0.015125603603097632\n",
            "Iteration: 39\tValue of m: 0.8885266666378754, \tValue of c: -0.015125603603097632\n",
            "Iteration: 40\tValue of m: 0.8885266666378754, \tValue of c: -0.015125603603097632\n",
            "Iteration: 41\tValue of m: 0.8885266666378754, \tValue of c: -0.015125603603097632\n",
            "Iteration: 42\tValue of m: 0.8885266666378754, \tValue of c: -0.015125603603097632\n",
            "Iteration: 43\tValue of m: 0.8885266666378754, \tValue of c: -0.015125603603097632\n",
            "Iteration: 44\tValue of m: 0.8885266666378754, \tValue of c: -0.015125603603097632\n",
            "Iteration: 45\tValue of m: 0.8885266666378754, \tValue of c: -0.015125603603097632\n",
            "Iteration: 46\tValue of m: 0.8885266666378754, \tValue of c: -0.015125603603097632\n",
            "Iteration: 47\tValue of m: 0.8885266666378754, \tValue of c: -0.015125603603097632\n",
            "Iteration: 48\tValue of m: 0.8885266666378754, \tValue of c: -0.015125603603097632\n",
            "Iteration: 49\tValue of m: 0.8885266666378754, \tValue of c: -0.015125603603097632\n",
            "Iteration: 50\tValue of m: 0.8885266666378754, \tValue of c: -0.015125603603097632\n",
            "Iteration: 51\tValue of m: 0.8885266666378754, \tValue of c: -0.015125603603097632\n",
            "Iteration: 52\tValue of m: 0.8885266666378754, \tValue of c: -0.015125603603097632\n",
            "Iteration: 53\tValue of m: 0.8885266666378754, \tValue of c: -0.015125603603097632\n",
            "Iteration: 54\tValue of m: 0.8885266666378754, \tValue of c: -0.015125603603097632\n",
            "Iteration: 55\tValue of m: 0.8885266666378754, \tValue of c: -0.015125603603097632\n",
            "Iteration: 56\tValue of m: 0.8885266666378754, \tValue of c: -0.015125603603097632\n",
            "Iteration: 57\tValue of m: 0.8885266666378754, \tValue of c: -0.015125603603097632\n",
            "Iteration: 58\tValue of m: 0.8885266666378754, \tValue of c: -0.015125603603097632\n",
            "Iteration: 59\tValue of m: 0.8885266666378754, \tValue of c: -0.015125603603097632\n",
            "Iteration: 60\tValue of m: 0.8885266666378754, \tValue of c: -0.015125603603097632\n",
            "Iteration: 61\tValue of m: 0.8885266666378754, \tValue of c: -0.015125603603097632\n",
            "Iteration: 62\tValue of m: 0.8885266666378754, \tValue of c: -0.015125603603097632\n",
            "Iteration: 63\tValue of m: 0.8885266666378754, \tValue of c: -0.015125603603097632\n",
            "Iteration: 64\tValue of m: 0.8885266666378754, \tValue of c: -0.015125603603097632\n",
            "Iteration: 65\tValue of m: 0.8885266666378754, \tValue of c: -0.015125603603097632\n",
            "Iteration: 66\tValue of m: 0.8885266666378754, \tValue of c: -0.015125603603097632\n",
            "Iteration: 67\tValue of m: 0.8885266666378754, \tValue of c: -0.015125603603097632\n",
            "Iteration: 68\tValue of m: 0.8885266666378754, \tValue of c: -0.015125603603097632\n",
            "Iteration: 69\tValue of m: 0.8885266666378754, \tValue of c: -0.015125603603097632\n",
            "Iteration: 70\tValue of m: 0.8885266666378754, \tValue of c: -0.015125603603097632\n",
            "Iteration: 71\tValue of m: 0.8885266666378754, \tValue of c: -0.015125603603097632\n",
            "Iteration: 72\tValue of m: 0.8885266666378754, \tValue of c: -0.015125603603097632\n",
            "Iteration: 73\tValue of m: 0.8885266666378754, \tValue of c: -0.015125603603097632\n",
            "Iteration: 74\tValue of m: 0.8885266666378754, \tValue of c: -0.015125603603097632\n",
            "Iteration: 75\tValue of m: 0.8885266666378754, \tValue of c: -0.015125603603097632\n",
            "Iteration: 76\tValue of m: 0.8885266666378754, \tValue of c: -0.015125603603097632\n",
            "Iteration: 77\tValue of m: 0.8885266666378754, \tValue of c: -0.015125603603097632\n",
            "Iteration: 78\tValue of m: 0.8885266666378754, \tValue of c: -0.015125603603097632\n",
            "Iteration: 79\tValue of m: 0.8885266666378754, \tValue of c: -0.015125603603097632\n",
            "Iteration: 80\tValue of m: 0.8885266666378754, \tValue of c: -0.015125603603097632\n",
            "Iteration: 81\tValue of m: 0.8885266666378754, \tValue of c: -0.015125603603097632\n",
            "Iteration: 82\tValue of m: 0.8885266666378754, \tValue of c: -0.015125603603097632\n",
            "Iteration: 83\tValue of m: 0.8885266666378754, \tValue of c: -0.015125603603097632\n",
            "Iteration: 84\tValue of m: 0.8885266666378754, \tValue of c: -0.015125603603097632\n",
            "Iteration: 85\tValue of m: 0.8885266666378754, \tValue of c: -0.015125603603097632\n",
            "Iteration: 86\tValue of m: 0.8885266666378754, \tValue of c: -0.015125603603097632\n",
            "Iteration: 87\tValue of m: 0.8885266666378754, \tValue of c: -0.015125603603097632\n",
            "Iteration: 88\tValue of m: 0.8885266666378754, \tValue of c: -0.015125603603097632\n",
            "Iteration: 89\tValue of m: 0.8885266666378754, \tValue of c: -0.015125603603097632\n",
            "Iteration: 90\tValue of m: 0.8885266666378754, \tValue of c: -0.015125603603097632\n",
            "Iteration: 91\tValue of m: 0.8885266666378754, \tValue of c: -0.015125603603097632\n",
            "Iteration: 92\tValue of m: 0.8885266666378754, \tValue of c: -0.015125603603097632\n",
            "Iteration: 93\tValue of m: 0.8885266666378754, \tValue of c: -0.015125603603097632\n",
            "Iteration: 94\tValue of m: 0.8885266666378754, \tValue of c: -0.015125603603097632\n",
            "Iteration: 95\tValue of m: 0.8885266666378754, \tValue of c: -0.015125603603097632\n",
            "Iteration: 96\tValue of m: 0.8885266666378754, \tValue of c: -0.015125603603097632\n",
            "Iteration: 97\tValue of m: 0.8885266666378754, \tValue of c: -0.015125603603097632\n",
            "Iteration: 98\tValue of m: 0.8885266666378754, \tValue of c: -0.015125603603097632\n",
            "Iteration: 99\tValue of m: 0.8885266666378754, \tValue of c: -0.015125603603097632\n",
            "Iteration: 100\tValue of m: 0.8885266666378754, \tValue of c: -0.015125603603097632\n"
          ],
          "name": "stdout"
        }
      ]
    },
    {
      "cell_type": "code",
      "metadata": {
        "id": "ryaaVibzYQNe",
        "colab": {
          "base_uri": "https://localhost:8080/"
        },
        "outputId": "75d6e0e2-d15f-44c8-d92a-9ba9602bb091"
      },
      "source": [
        "print(f\"\\nThe local minima occurs at: {m}, {c}\")"
      ],
      "execution_count": 14,
      "outputs": [
        {
          "output_type": "stream",
          "text": [
            "\n",
            "The local minima occurs at: 0.8885266666378754, -0.015125603603097632\n"
          ],
          "name": "stdout"
        }
      ]
    },
    {
      "cell_type": "code",
      "metadata": {
        "id": "SteNAjODYSzb"
      },
      "source": [
        "import numpy as np\r\n",
        "\r\n",
        "x_train = np.array(x_train)\r\n",
        "y_train = np.array(y_train)\r\n",
        "x_test = np.array(x_test)\r\n",
        "y_test = np.array(y_test)"
      ],
      "execution_count": 16,
      "outputs": []
    },
    {
      "cell_type": "code",
      "metadata": {
        "id": "g5Hc3qZ2YXnd"
      },
      "source": [
        "y_pred_train = []\r\n",
        "for i in x_train:\r\n",
        "  y_p_tr = (m * i) + c\r\n",
        "  y_pred_train.append(y_p_tr)\r\n",
        "y_pred_train = np.array(y_pred_train)"
      ],
      "execution_count": 17,
      "outputs": []
    },
    {
      "cell_type": "code",
      "metadata": {
        "id": "Rexfa-wmYcPD"
      },
      "source": [
        "y_pred_test = []\r\n",
        "for i in x_test:\r\n",
        "  y_p_te = (m * i) + c\r\n",
        "  y_pred_test.append(y_p_te)\r\n",
        "y_pred_test = np.array(y_pred_test)"
      ],
      "execution_count": 18,
      "outputs": []
    },
    {
      "cell_type": "code",
      "metadata": {
        "id": "QHS_BGnPYdIY",
        "colab": {
          "base_uri": "https://localhost:8080/"
        },
        "outputId": "b207d8e9-09ba-4ebd-d09f-9109136bbfa8"
      },
      "source": [
        "import math\r\n",
        "from sklearn.metrics import mean_squared_error \r\n",
        "from sklearn.metrics import mean_absolute_error\r\n",
        "\r\n",
        "\r\n",
        "#Training Accuracies\r\n",
        "mse = math.sqrt(mean_squared_error(y_train, y_pred_train)) \r\n",
        "print('Root mean square error', mse) \r\n",
        "mse = (mean_squared_error(y_train, y_pred_train)) \r\n",
        "print('Mean square error', mse) \r\n",
        "mae=mean_absolute_error(y_train, y_pred_train)\r\n",
        "print('Mean absolute error', mae)"
      ],
      "execution_count": 19,
      "outputs": [
        {
          "output_type": "stream",
          "text": [
            "Root mean square error 0.6888134336509062\n",
            "Mean square error 0.4744639463779513\n",
            "Mean absolute error 0.4922787663231915\n"
          ],
          "name": "stdout"
        }
      ]
    },
    {
      "cell_type": "code",
      "metadata": {
        "id": "VwYKKRoPYhd4",
        "colab": {
          "base_uri": "https://localhost:8080/"
        },
        "outputId": "cc4d562f-b8be-4bf6-f4fb-b3e5820c54f6"
      },
      "source": [
        "#Testing Accuracies\r\n",
        "mse = math.sqrt(mean_squared_error(y_test, y_pred_test)) \r\n",
        "print('Root mean square error', mse) \r\n",
        "mse = (mean_squared_error(y_test, y_pred_test)) \r\n",
        "print('Mean square error', mse) \r\n",
        "mae=mean_absolute_error(y_test, y_pred_test)\r\n",
        "print('Mean absolute error', mae)"
      ],
      "execution_count": 20,
      "outputs": [
        {
          "output_type": "stream",
          "text": [
            "Root mean square error 0.6650642307346853\n",
            "Mean square error 0.4423104310027188\n",
            "Mean absolute error 0.48048030390084917\n"
          ],
          "name": "stdout"
        }
      ]
    },
    {
      "cell_type": "code",
      "metadata": {
        "id": "AkikTwxYYmFo",
        "colab": {
          "base_uri": "https://localhost:8080/"
        },
        "outputId": "329d381e-f58e-4e76-a20d-69ab8d4aff2f"
      },
      "source": [
        "hour = input(\"Enter an hour(0-23) of 1st December, 2018 to predict the load\")\r\n",
        "index = 2137 + int(hour)\r\n",
        "x = normalized_df.iloc[index, 1]\r\n",
        "normalised_output = m * x + c\r\n",
        "output = (normalised_output * df.std()) + df.mean()\r\n",
        "print(f\"Predicted Load (kW) at {hour} hours on 1st December, 2018: {output[0]}\")"
      ],
      "execution_count": 21,
      "outputs": [
        {
          "output_type": "stream",
          "text": [
            "Enter an hour(0-23) of 1st December, 2018 to predict the load20\n",
            "Predicted Load (kW) at 20 hours on 1st December, 2018: 4863.553322802587\n"
          ],
          "name": "stdout"
        }
      ]
    }
  ]
}