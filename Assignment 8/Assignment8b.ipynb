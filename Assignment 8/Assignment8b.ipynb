{
  "nbformat": 4,
  "nbformat_minor": 0,
  "metadata": {
    "colab": {
      "name": "Assignment8b",
      "provenance": [],
      "collapsed_sections": [],
      "toc_visible": true
    },
    "kernelspec": {
      "display_name": "Python 3",
      "name": "python3"
    }
  },
  "cells": [
    {
      "cell_type": "code",
      "metadata": {
        "colab": {
          "base_uri": "https://localhost:8080/"
        },
        "id": "gRt9P9HympU7",
        "outputId": "1f6fa81f-89d9-4582-8eed-7709d9c15777"
      },
      "source": [
        "import pandas as pd\r\n",
        "\r\n",
        "data = pd.read_csv('Load-Data-in-kW.csv')\r\n",
        "data.head()\r\n",
        "data.shape"
      ],
      "execution_count": null,
      "outputs": [
        {
          "output_type": "execute_result",
          "data": {
            "text/plain": [
              "(2184, 10)"
            ]
          },
          "metadata": {
            "tags": []
          },
          "execution_count": 2
        }
      ]
    },
    {
      "cell_type": "code",
      "metadata": {
        "colab": {
          "base_uri": "https://localhost:8080/"
        },
        "id": "V5ylQejom3sC",
        "outputId": "f4ab734d-17c8-4033-b76d-815773b0ffd7"
      },
      "source": [
        "hour_1 = data.iloc[0:-1, 2]\r\n",
        "hour_2 = data.iloc[1:, 2]\r\n",
        "print(hour_1.shape)\r\n",
        "print(hour_2.shape)"
      ],
      "execution_count": null,
      "outputs": [
        {
          "output_type": "stream",
          "text": [
            "(2183,)\n",
            "(2183,)\n"
          ],
          "name": "stdout"
        }
      ]
    },
    {
      "cell_type": "code",
      "metadata": {
        "id": "dH_Ioc0Um3uZ"
      },
      "source": [
        "#The index of hour_2 series starts from 1, so resetting the index\r\n",
        "hour_2 = hour_2.reset_index()\r\n",
        "hour_2 = hour_2['Load (kW)']"
      ],
      "execution_count": null,
      "outputs": []
    },
    {
      "cell_type": "code",
      "metadata": {
        "colab": {
          "base_uri": "https://localhost:8080/"
        },
        "id": "TNx2gSSWm3wv",
        "outputId": "ceef752f-ab8f-45c8-ce35-ef4bece0d5b0"
      },
      "source": [
        "df = pd.concat([hour_1, hour_2], axis = 1)\r\n",
        "df.shape"
      ],
      "execution_count": null,
      "outputs": [
        {
          "output_type": "execute_result",
          "data": {
            "text/plain": [
              "(2183, 2)"
            ]
          },
          "metadata": {
            "tags": []
          },
          "execution_count": 5
        }
      ]
    },
    {
      "cell_type": "code",
      "metadata": {
        "colab": {
          "base_uri": "https://localhost:8080/"
        },
        "id": "gBMbtbUFm3zd",
        "outputId": "0f20fac8-de05-408d-bba5-bb744b951fdf"
      },
      "source": [
        "df.columns = ['Hour_1', 'Hour_2']\r\n",
        "df.head"
      ],
      "execution_count": null,
      "outputs": [
        {
          "output_type": "execute_result",
          "data": {
            "text/plain": [
              "<bound method NDFrame.head of           Hour_1      Hour_2\n",
              "0     5551.82208  4983.17184\n",
              "1     4983.17184  4888.39680\n",
              "2     4888.39680  5072.95872\n",
              "3     5072.95872  5196.25980\n",
              "4     5196.25980  5641.29720\n",
              "...          ...         ...\n",
              "2178  5045.52384  4626.51840\n",
              "2179  4626.51840  4567.90752\n",
              "2180  4567.90752  4723.63164\n",
              "2181  4723.63164  5150.27520\n",
              "2182  5150.27520  6938.37468\n",
              "\n",
              "[2183 rows x 2 columns]>"
            ]
          },
          "metadata": {
            "tags": []
          },
          "execution_count": 6
        }
      ]
    },
    {
      "cell_type": "code",
      "metadata": {
        "colab": {
          "base_uri": "https://localhost:8080/",
          "height": 195
        },
        "id": "Yoj4tFH0m32I",
        "outputId": "61687d74-7dda-49d7-feec-46b233f1fa31"
      },
      "source": [
        "normalized_df = (df - df.mean()) / df.std()\r\n",
        "normalized_df.head()"
      ],
      "execution_count": null,
      "outputs": [
        {
          "output_type": "execute_result",
          "data": {
            "text/html": [
              "<div>\n",
              "<style scoped>\n",
              "    .dataframe tbody tr th:only-of-type {\n",
              "        vertical-align: middle;\n",
              "    }\n",
              "\n",
              "    .dataframe tbody tr th {\n",
              "        vertical-align: top;\n",
              "    }\n",
              "\n",
              "    .dataframe thead th {\n",
              "        text-align: right;\n",
              "    }\n",
              "</style>\n",
              "<table border=\"1\" class=\"dataframe\">\n",
              "  <thead>\n",
              "    <tr style=\"text-align: right;\">\n",
              "      <th></th>\n",
              "      <th>Hour_1</th>\n",
              "      <th>Hour_2</th>\n",
              "    </tr>\n",
              "  </thead>\n",
              "  <tbody>\n",
              "    <tr>\n",
              "      <th>0</th>\n",
              "      <td>-0.446228</td>\n",
              "      <td>-0.979915</td>\n",
              "    </tr>\n",
              "    <tr>\n",
              "      <th>1</th>\n",
              "      <td>-0.979438</td>\n",
              "      <td>-1.068773</td>\n",
              "    </tr>\n",
              "    <tr>\n",
              "      <th>2</th>\n",
              "      <td>-1.068307</td>\n",
              "      <td>-0.895734</td>\n",
              "    </tr>\n",
              "    <tr>\n",
              "      <th>3</th>\n",
              "      <td>-0.895247</td>\n",
              "      <td>-0.780131</td>\n",
              "    </tr>\n",
              "    <tr>\n",
              "      <th>4</th>\n",
              "      <td>-0.779630</td>\n",
              "      <td>-0.362881</td>\n",
              "    </tr>\n",
              "  </tbody>\n",
              "</table>\n",
              "</div>"
            ],
            "text/plain": [
              "     Hour_1    Hour_2\n",
              "0 -0.446228 -0.979915\n",
              "1 -0.979438 -1.068773\n",
              "2 -1.068307 -0.895734\n",
              "3 -0.895247 -0.780131\n",
              "4 -0.779630 -0.362881"
            ]
          },
          "metadata": {
            "tags": []
          },
          "execution_count": 7
        }
      ]
    },
    {
      "cell_type": "code",
      "metadata": {
        "id": "Z9UGy3u7m34y"
      },
      "source": [
        "from sklearn.model_selection import train_test_split\r\n",
        "x_train, x_test, y_train, y_test = train_test_split(normalized_df.Hour_1, normalized_df.Hour_2, test_size = 0.10, random_state = 42)"
      ],
      "execution_count": null,
      "outputs": []
    },
    {
      "cell_type": "code",
      "metadata": {
        "colab": {
          "base_uri": "https://localhost:8080/"
        },
        "id": "RV7TWhn3m37T",
        "outputId": "5b806edb-bb92-43f4-c6be-7d9d3c938c3d"
      },
      "source": [
        "m = 1 #Initial value of slope\r\n",
        "c = -1 #Initial value of intercept\r\n",
        "lr = 0.01 #Learning Rate\r\n",
        "delta_m = 1 #Initialising Δm\r\n",
        "delta_c = 1 #Initialising Δc\r\n",
        "v_m = 0\r\n",
        "v_c = 0\r\n",
        "lam = 0.9\r\n",
        "max_iters = 100 #Maximum number of iterations  \r\n",
        "iters_count = 0 #Counting Iterations\r\n",
        "\r\n",
        "\r\n",
        "def deriv(m_f, c_f, x, y, v1, v2):\r\n",
        "  global lam\r\n",
        "  m_deriv = -1 * (y - (m_f - lam * v1) * x - c_f + lam * v2) * x\r\n",
        "  c_deriv = -1 * (y - (m_f - lam * v1) * x - c_f + lam * v2)\r\n",
        "  return m_deriv, c_deriv  \r\n",
        "\r\n",
        "\r\n",
        "while iters_count < max_iters:\r\n",
        "  for i in range(x_train.shape[0]):\r\n",
        "    delta_m, delta_c = deriv(m, c, x_train.iloc[i], y_train.iloc[i], v_m, v_c)\r\n",
        "    v_m = lam * v_m - lr * delta_m\r\n",
        "    v_c = lam * v_c - lr * delta_c\r\n",
        "    m += v_m\r\n",
        "    c += v_c\r\n",
        "  iters_count += 1\r\n",
        "  print(f\"Iteration: {iters_count}\\tValue of m: {m}, \\tValue of c: {c}\")"
      ],
      "execution_count": null,
      "outputs": [
        {
          "output_type": "stream",
          "text": [
            "Iteration: 1\tValue of m: 0.8497957222095366, \tValue of c: -0.15662392198536862\n",
            "Iteration: 2\tValue of m: 0.8497957222095366, \tValue of c: -0.15662392198536862\n",
            "Iteration: 3\tValue of m: 0.8497957222095366, \tValue of c: -0.15662392198536862\n",
            "Iteration: 4\tValue of m: 0.8497957222095366, \tValue of c: -0.15662392198536862\n",
            "Iteration: 5\tValue of m: 0.8497957222095366, \tValue of c: -0.15662392198536862\n",
            "Iteration: 6\tValue of m: 0.8497957222095366, \tValue of c: -0.15662392198536862\n",
            "Iteration: 7\tValue of m: 0.8497957222095366, \tValue of c: -0.15662392198536862\n",
            "Iteration: 8\tValue of m: 0.8497957222095366, \tValue of c: -0.15662392198536862\n",
            "Iteration: 9\tValue of m: 0.8497957222095366, \tValue of c: -0.15662392198536862\n",
            "Iteration: 10\tValue of m: 0.8497957222095366, \tValue of c: -0.15662392198536862\n",
            "Iteration: 11\tValue of m: 0.8497957222095366, \tValue of c: -0.15662392198536862\n",
            "Iteration: 12\tValue of m: 0.8497957222095366, \tValue of c: -0.15662392198536862\n",
            "Iteration: 13\tValue of m: 0.8497957222095366, \tValue of c: -0.15662392198536862\n",
            "Iteration: 14\tValue of m: 0.8497957222095366, \tValue of c: -0.15662392198536862\n",
            "Iteration: 15\tValue of m: 0.8497957222095366, \tValue of c: -0.15662392198536862\n",
            "Iteration: 16\tValue of m: 0.8497957222095366, \tValue of c: -0.15662392198536862\n",
            "Iteration: 17\tValue of m: 0.8497957222095366, \tValue of c: -0.15662392198536862\n",
            "Iteration: 18\tValue of m: 0.8497957222095366, \tValue of c: -0.15662392198536862\n",
            "Iteration: 19\tValue of m: 0.8497957222095366, \tValue of c: -0.15662392198536862\n",
            "Iteration: 20\tValue of m: 0.8497957222095366, \tValue of c: -0.15662392198536862\n",
            "Iteration: 21\tValue of m: 0.8497957222095366, \tValue of c: -0.15662392198536862\n",
            "Iteration: 22\tValue of m: 0.8497957222095366, \tValue of c: -0.15662392198536862\n",
            "Iteration: 23\tValue of m: 0.8497957222095366, \tValue of c: -0.15662392198536862\n",
            "Iteration: 24\tValue of m: 0.8497957222095366, \tValue of c: -0.15662392198536862\n",
            "Iteration: 25\tValue of m: 0.8497957222095366, \tValue of c: -0.15662392198536862\n",
            "Iteration: 26\tValue of m: 0.8497957222095366, \tValue of c: -0.15662392198536862\n",
            "Iteration: 27\tValue of m: 0.8497957222095366, \tValue of c: -0.15662392198536862\n",
            "Iteration: 28\tValue of m: 0.8497957222095366, \tValue of c: -0.15662392198536862\n",
            "Iteration: 29\tValue of m: 0.8497957222095366, \tValue of c: -0.15662392198536862\n",
            "Iteration: 30\tValue of m: 0.8497957222095366, \tValue of c: -0.15662392198536862\n",
            "Iteration: 31\tValue of m: 0.8497957222095366, \tValue of c: -0.15662392198536862\n",
            "Iteration: 32\tValue of m: 0.8497957222095366, \tValue of c: -0.15662392198536862\n",
            "Iteration: 33\tValue of m: 0.8497957222095366, \tValue of c: -0.15662392198536862\n",
            "Iteration: 34\tValue of m: 0.8497957222095366, \tValue of c: -0.15662392198536862\n",
            "Iteration: 35\tValue of m: 0.8497957222095366, \tValue of c: -0.15662392198536862\n",
            "Iteration: 36\tValue of m: 0.8497957222095366, \tValue of c: -0.15662392198536862\n",
            "Iteration: 37\tValue of m: 0.8497957222095366, \tValue of c: -0.15662392198536862\n",
            "Iteration: 38\tValue of m: 0.8497957222095366, \tValue of c: -0.15662392198536862\n",
            "Iteration: 39\tValue of m: 0.8497957222095366, \tValue of c: -0.15662392198536862\n",
            "Iteration: 40\tValue of m: 0.8497957222095366, \tValue of c: -0.15662392198536862\n",
            "Iteration: 41\tValue of m: 0.8497957222095366, \tValue of c: -0.15662392198536862\n",
            "Iteration: 42\tValue of m: 0.8497957222095366, \tValue of c: -0.15662392198536862\n",
            "Iteration: 43\tValue of m: 0.8497957222095366, \tValue of c: -0.15662392198536862\n",
            "Iteration: 44\tValue of m: 0.8497957222095366, \tValue of c: -0.15662392198536862\n",
            "Iteration: 45\tValue of m: 0.8497957222095366, \tValue of c: -0.15662392198536862\n",
            "Iteration: 46\tValue of m: 0.8497957222095366, \tValue of c: -0.15662392198536862\n",
            "Iteration: 47\tValue of m: 0.8497957222095366, \tValue of c: -0.15662392198536862\n",
            "Iteration: 48\tValue of m: 0.8497957222095366, \tValue of c: -0.15662392198536862\n",
            "Iteration: 49\tValue of m: 0.8497957222095366, \tValue of c: -0.15662392198536862\n",
            "Iteration: 50\tValue of m: 0.8497957222095366, \tValue of c: -0.15662392198536862\n",
            "Iteration: 51\tValue of m: 0.8497957222095366, \tValue of c: -0.15662392198536862\n",
            "Iteration: 52\tValue of m: 0.8497957222095366, \tValue of c: -0.15662392198536862\n",
            "Iteration: 53\tValue of m: 0.8497957222095366, \tValue of c: -0.15662392198536862\n",
            "Iteration: 54\tValue of m: 0.8497957222095366, \tValue of c: -0.15662392198536862\n",
            "Iteration: 55\tValue of m: 0.8497957222095366, \tValue of c: -0.15662392198536862\n",
            "Iteration: 56\tValue of m: 0.8497957222095366, \tValue of c: -0.15662392198536862\n",
            "Iteration: 57\tValue of m: 0.8497957222095366, \tValue of c: -0.15662392198536862\n",
            "Iteration: 58\tValue of m: 0.8497957222095366, \tValue of c: -0.15662392198536862\n",
            "Iteration: 59\tValue of m: 0.8497957222095366, \tValue of c: -0.15662392198536862\n",
            "Iteration: 60\tValue of m: 0.8497957222095366, \tValue of c: -0.15662392198536862\n",
            "Iteration: 61\tValue of m: 0.8497957222095366, \tValue of c: -0.15662392198536862\n",
            "Iteration: 62\tValue of m: 0.8497957222095366, \tValue of c: -0.15662392198536862\n",
            "Iteration: 63\tValue of m: 0.8497957222095366, \tValue of c: -0.15662392198536862\n",
            "Iteration: 64\tValue of m: 0.8497957222095366, \tValue of c: -0.15662392198536862\n",
            "Iteration: 65\tValue of m: 0.8497957222095366, \tValue of c: -0.15662392198536862\n",
            "Iteration: 66\tValue of m: 0.8497957222095366, \tValue of c: -0.15662392198536862\n",
            "Iteration: 67\tValue of m: 0.8497957222095366, \tValue of c: -0.15662392198536862\n",
            "Iteration: 68\tValue of m: 0.8497957222095366, \tValue of c: -0.15662392198536862\n",
            "Iteration: 69\tValue of m: 0.8497957222095366, \tValue of c: -0.15662392198536862\n",
            "Iteration: 70\tValue of m: 0.8497957222095366, \tValue of c: -0.15662392198536862\n",
            "Iteration: 71\tValue of m: 0.8497957222095366, \tValue of c: -0.15662392198536862\n",
            "Iteration: 72\tValue of m: 0.8497957222095366, \tValue of c: -0.15662392198536862\n",
            "Iteration: 73\tValue of m: 0.8497957222095366, \tValue of c: -0.15662392198536862\n",
            "Iteration: 74\tValue of m: 0.8497957222095366, \tValue of c: -0.15662392198536862\n",
            "Iteration: 75\tValue of m: 0.8497957222095366, \tValue of c: -0.15662392198536862\n",
            "Iteration: 76\tValue of m: 0.8497957222095366, \tValue of c: -0.15662392198536862\n",
            "Iteration: 77\tValue of m: 0.8497957222095366, \tValue of c: -0.15662392198536862\n",
            "Iteration: 78\tValue of m: 0.8497957222095366, \tValue of c: -0.15662392198536862\n",
            "Iteration: 79\tValue of m: 0.8497957222095366, \tValue of c: -0.15662392198536862\n",
            "Iteration: 80\tValue of m: 0.8497957222095366, \tValue of c: -0.15662392198536862\n",
            "Iteration: 81\tValue of m: 0.8497957222095366, \tValue of c: -0.15662392198536862\n",
            "Iteration: 82\tValue of m: 0.8497957222095366, \tValue of c: -0.15662392198536862\n",
            "Iteration: 83\tValue of m: 0.8497957222095366, \tValue of c: -0.15662392198536862\n",
            "Iteration: 84\tValue of m: 0.8497957222095366, \tValue of c: -0.15662392198536862\n",
            "Iteration: 85\tValue of m: 0.8497957222095366, \tValue of c: -0.15662392198536862\n",
            "Iteration: 86\tValue of m: 0.8497957222095366, \tValue of c: -0.15662392198536862\n",
            "Iteration: 87\tValue of m: 0.8497957222095366, \tValue of c: -0.15662392198536862\n",
            "Iteration: 88\tValue of m: 0.8497957222095366, \tValue of c: -0.15662392198536862\n",
            "Iteration: 89\tValue of m: 0.8497957222095366, \tValue of c: -0.15662392198536862\n",
            "Iteration: 90\tValue of m: 0.8497957222095366, \tValue of c: -0.15662392198536862\n",
            "Iteration: 91\tValue of m: 0.8497957222095366, \tValue of c: -0.15662392198536862\n",
            "Iteration: 92\tValue of m: 0.8497957222095366, \tValue of c: -0.15662392198536862\n",
            "Iteration: 93\tValue of m: 0.8497957222095366, \tValue of c: -0.15662392198536862\n",
            "Iteration: 94\tValue of m: 0.8497957222095366, \tValue of c: -0.15662392198536862\n",
            "Iteration: 95\tValue of m: 0.8497957222095366, \tValue of c: -0.15662392198536862\n",
            "Iteration: 96\tValue of m: 0.8497957222095366, \tValue of c: -0.15662392198536862\n",
            "Iteration: 97\tValue of m: 0.8497957222095366, \tValue of c: -0.15662392198536862\n",
            "Iteration: 98\tValue of m: 0.8497957222095366, \tValue of c: -0.15662392198536862\n",
            "Iteration: 99\tValue of m: 0.8497957222095366, \tValue of c: -0.15662392198536862\n",
            "Iteration: 100\tValue of m: 0.8497957222095366, \tValue of c: -0.15662392198536862\n"
          ],
          "name": "stdout"
        }
      ]
    },
    {
      "cell_type": "code",
      "metadata": {
        "colab": {
          "base_uri": "https://localhost:8080/"
        },
        "id": "xQcbzDvlm399",
        "outputId": "70ff34b1-4d07-4876-b9cd-bad345414985"
      },
      "source": [
        "print(f\"\\nThe local minima occurs at: {m}, {c}\")"
      ],
      "execution_count": null,
      "outputs": [
        {
          "output_type": "stream",
          "text": [
            "\n",
            "The local minima occurs at: 0.8497957222095366, -0.15662392198536862\n"
          ],
          "name": "stdout"
        }
      ]
    },
    {
      "cell_type": "code",
      "metadata": {
        "id": "t5eTOC78m4BD"
      },
      "source": [
        "import numpy as np\r\n",
        "\r\n",
        "x_train = np.array(x_train)\r\n",
        "y_train = np.array(y_train)\r\n",
        "x_test = np.array(x_test)\r\n",
        "y_test = np.array(y_test)"
      ],
      "execution_count": null,
      "outputs": []
    },
    {
      "cell_type": "code",
      "metadata": {
        "id": "iEQQ_IOam4ES"
      },
      "source": [
        "y_pred_train = []\r\n",
        "for i in x_train:\r\n",
        "  y_p_tr = (m * i) + c\r\n",
        "  y_pred_train.append(y_p_tr)\r\n",
        "y_pred_train = np.array(y_pred_train)"
      ],
      "execution_count": null,
      "outputs": []
    },
    {
      "cell_type": "code",
      "metadata": {
        "id": "gkmFjOdsnXZV"
      },
      "source": [
        "y_pred_test = []\r\n",
        "for i in x_test:\r\n",
        "  y_p_te = (m * i) + c\r\n",
        "  y_pred_test.append(y_p_te)\r\n",
        "y_pred_test = np.array(y_pred_test)"
      ],
      "execution_count": null,
      "outputs": []
    },
    {
      "cell_type": "code",
      "metadata": {
        "colab": {
          "base_uri": "https://localhost:8080/"
        },
        "id": "cvEw4CzQnXd8",
        "outputId": "4ff421b8-11f7-4112-bb31-94ef9ae78947"
      },
      "source": [
        "import math\r\n",
        "from sklearn.metrics import mean_squared_error \r\n",
        "from sklearn.metrics import mean_absolute_error\r\n",
        "\r\n",
        "\r\n",
        "#Training Accuracies\r\n",
        "mse = math.sqrt(mean_squared_error(y_train, y_pred_train)) \r\n",
        "print('Root mean square error', mse) \r\n",
        "mse = (mean_squared_error(y_train, y_pred_train)) \r\n",
        "print('Mean square error', mse) \r\n",
        "mae=mean_absolute_error(y_train, y_pred_train)\r\n",
        "print('Mean absolute error', mae)"
      ],
      "execution_count": null,
      "outputs": [
        {
          "output_type": "stream",
          "text": [
            "Root mean square error 0.6518990110770351\n",
            "Mean square error 0.4249723206432163\n",
            "Mean absolute error 0.43781836275406955\n"
          ],
          "name": "stdout"
        }
      ]
    },
    {
      "cell_type": "code",
      "metadata": {
        "colab": {
          "base_uri": "https://localhost:8080/"
        },
        "id": "ITW2Ol1FnXgP",
        "outputId": "31c1237f-a811-4d35-ec9c-de92543cb093"
      },
      "source": [
        "#Testing Accuracies\r\n",
        "mse = math.sqrt(mean_squared_error(y_test, y_pred_test)) \r\n",
        "print('Root mean square error', mse) \r\n",
        "mse = (mean_squared_error(y_test, y_pred_test)) \r\n",
        "print('Mean square error', mse) \r\n",
        "mae=mean_absolute_error(y_test, y_pred_test)\r\n",
        "print('Mean absolute error', mae)"
      ],
      "execution_count": null,
      "outputs": [
        {
          "output_type": "stream",
          "text": [
            "Root mean square error 0.5874494300215501\n",
            "Mean square error 0.3450968328326441\n",
            "Mean absolute error 0.4057943073140245\n"
          ],
          "name": "stdout"
        }
      ]
    },
    {
      "cell_type": "code",
      "metadata": {
        "id": "xEf0jmGFnhfr"
      },
      "source": [
        "dec_1st = []\r\n",
        "dec_1st.append(df.iloc[-1, 1])\r\n",
        "for hour in range(24):\r\n",
        "  normalised_pred = (dec_1st[-1] - df.mean()) / df.std()\r\n",
        "  pred_load = m * normalised_pred + c\r\n",
        "  pred_load = (pred_load * df.std()) + df.mean()\r\n",
        "  dec_1st.append(pred_load)"
      ],
      "execution_count": null,
      "outputs": []
    },
    {
      "cell_type": "code",
      "metadata": {
        "colab": {
          "base_uri": "https://localhost:8080/"
        },
        "id": "2aD_fOn0nkJS",
        "outputId": "163e8c46-78fc-4f78-cb8e-397788a77e78"
      },
      "source": [
        "hour = input(\"Enter an hour(0-23) of 1st December, 2018 to predict the load\")\r\n",
        "print(f\"Predicted Load (kW) at {hour} hours on 1st December, 2018: {dec_1st[1 + int(hour)][0]}\")"
      ],
      "execution_count": null,
      "outputs": [
        {
          "output_type": "stream",
          "text": [
            "Enter an hour(0-23) of 1st December, 2018 to predict the load2\n",
            "Predicted Load (kW) at 2 hours on 1st December, 2018: 6156.965516225574\n"
          ],
          "name": "stdout"
        }
      ]
    }
  ]
}