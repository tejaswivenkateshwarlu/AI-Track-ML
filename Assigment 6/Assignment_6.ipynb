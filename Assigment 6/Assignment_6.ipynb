{
  "nbformat": 4,
  "nbformat_minor": 0,
  "metadata": {
    "colab": {
      "name": "Assignment_6",
      "provenance": [],
      "collapsed_sections": [],
      "toc_visible": true
    },
    "kernelspec": {
      "display_name": "Python 3",
      "name": "python3"
    }
  },
  "cells": [
    {
      "cell_type": "code",
      "metadata": {
        "id": "cp5tw-B9Veak",
        "colab": {
          "base_uri": "https://localhost:8080/",
          "height": 215
        },
        "outputId": "d84c6c85-90f6-496e-cc51-45e18b9ad640"
      },
      "source": [
        "import pandas as pd\r\n",
        "\r\n",
        "data= pd.read_csv(\"kc_house_data.csv\")\r\n",
        "data.head()"
      ],
      "execution_count": 3,
      "outputs": [
        {
          "output_type": "execute_result",
          "data": {
            "text/html": [
              "<div>\n",
              "<style scoped>\n",
              "    .dataframe tbody tr th:only-of-type {\n",
              "        vertical-align: middle;\n",
              "    }\n",
              "\n",
              "    .dataframe tbody tr th {\n",
              "        vertical-align: top;\n",
              "    }\n",
              "\n",
              "    .dataframe thead th {\n",
              "        text-align: right;\n",
              "    }\n",
              "</style>\n",
              "<table border=\"1\" class=\"dataframe\">\n",
              "  <thead>\n",
              "    <tr style=\"text-align: right;\">\n",
              "      <th></th>\n",
              "      <th>id</th>\n",
              "      <th>date</th>\n",
              "      <th>price</th>\n",
              "      <th>bedrooms</th>\n",
              "      <th>bathrooms</th>\n",
              "      <th>sqft_living</th>\n",
              "      <th>sqft_lot</th>\n",
              "      <th>floors</th>\n",
              "      <th>waterfront</th>\n",
              "      <th>view</th>\n",
              "      <th>condition</th>\n",
              "      <th>grade</th>\n",
              "      <th>sqft_above</th>\n",
              "      <th>sqft_basement</th>\n",
              "      <th>yr_built</th>\n",
              "      <th>yr_renovated</th>\n",
              "      <th>zipcode</th>\n",
              "      <th>lat</th>\n",
              "      <th>long</th>\n",
              "      <th>sqft_living15</th>\n",
              "      <th>sqft_lot15</th>\n",
              "    </tr>\n",
              "  </thead>\n",
              "  <tbody>\n",
              "    <tr>\n",
              "      <th>0</th>\n",
              "      <td>7129300520</td>\n",
              "      <td>20141013T000000</td>\n",
              "      <td>221900.0</td>\n",
              "      <td>3</td>\n",
              "      <td>1.00</td>\n",
              "      <td>1180</td>\n",
              "      <td>5650</td>\n",
              "      <td>1.0</td>\n",
              "      <td>0</td>\n",
              "      <td>0</td>\n",
              "      <td>3</td>\n",
              "      <td>7</td>\n",
              "      <td>1180</td>\n",
              "      <td>0</td>\n",
              "      <td>1955</td>\n",
              "      <td>0</td>\n",
              "      <td>98178</td>\n",
              "      <td>47.5112</td>\n",
              "      <td>-122.257</td>\n",
              "      <td>1340</td>\n",
              "      <td>5650</td>\n",
              "    </tr>\n",
              "    <tr>\n",
              "      <th>1</th>\n",
              "      <td>6414100192</td>\n",
              "      <td>20141209T000000</td>\n",
              "      <td>538000.0</td>\n",
              "      <td>3</td>\n",
              "      <td>2.25</td>\n",
              "      <td>2570</td>\n",
              "      <td>7242</td>\n",
              "      <td>2.0</td>\n",
              "      <td>0</td>\n",
              "      <td>0</td>\n",
              "      <td>3</td>\n",
              "      <td>7</td>\n",
              "      <td>2170</td>\n",
              "      <td>400</td>\n",
              "      <td>1951</td>\n",
              "      <td>1991</td>\n",
              "      <td>98125</td>\n",
              "      <td>47.7210</td>\n",
              "      <td>-122.319</td>\n",
              "      <td>1690</td>\n",
              "      <td>7639</td>\n",
              "    </tr>\n",
              "    <tr>\n",
              "      <th>2</th>\n",
              "      <td>5631500400</td>\n",
              "      <td>20150225T000000</td>\n",
              "      <td>180000.0</td>\n",
              "      <td>2</td>\n",
              "      <td>1.00</td>\n",
              "      <td>770</td>\n",
              "      <td>10000</td>\n",
              "      <td>1.0</td>\n",
              "      <td>0</td>\n",
              "      <td>0</td>\n",
              "      <td>3</td>\n",
              "      <td>6</td>\n",
              "      <td>770</td>\n",
              "      <td>0</td>\n",
              "      <td>1933</td>\n",
              "      <td>0</td>\n",
              "      <td>98028</td>\n",
              "      <td>47.7379</td>\n",
              "      <td>-122.233</td>\n",
              "      <td>2720</td>\n",
              "      <td>8062</td>\n",
              "    </tr>\n",
              "    <tr>\n",
              "      <th>3</th>\n",
              "      <td>2487200875</td>\n",
              "      <td>20141209T000000</td>\n",
              "      <td>604000.0</td>\n",
              "      <td>4</td>\n",
              "      <td>3.00</td>\n",
              "      <td>1960</td>\n",
              "      <td>5000</td>\n",
              "      <td>1.0</td>\n",
              "      <td>0</td>\n",
              "      <td>0</td>\n",
              "      <td>5</td>\n",
              "      <td>7</td>\n",
              "      <td>1050</td>\n",
              "      <td>910</td>\n",
              "      <td>1965</td>\n",
              "      <td>0</td>\n",
              "      <td>98136</td>\n",
              "      <td>47.5208</td>\n",
              "      <td>-122.393</td>\n",
              "      <td>1360</td>\n",
              "      <td>5000</td>\n",
              "    </tr>\n",
              "    <tr>\n",
              "      <th>4</th>\n",
              "      <td>1954400510</td>\n",
              "      <td>20150218T000000</td>\n",
              "      <td>510000.0</td>\n",
              "      <td>3</td>\n",
              "      <td>2.00</td>\n",
              "      <td>1680</td>\n",
              "      <td>8080</td>\n",
              "      <td>1.0</td>\n",
              "      <td>0</td>\n",
              "      <td>0</td>\n",
              "      <td>3</td>\n",
              "      <td>8</td>\n",
              "      <td>1680</td>\n",
              "      <td>0</td>\n",
              "      <td>1987</td>\n",
              "      <td>0</td>\n",
              "      <td>98074</td>\n",
              "      <td>47.6168</td>\n",
              "      <td>-122.045</td>\n",
              "      <td>1800</td>\n",
              "      <td>7503</td>\n",
              "    </tr>\n",
              "  </tbody>\n",
              "</table>\n",
              "</div>"
            ],
            "text/plain": [
              "           id             date     price  ...     long  sqft_living15  sqft_lot15\n",
              "0  7129300520  20141013T000000  221900.0  ... -122.257           1340        5650\n",
              "1  6414100192  20141209T000000  538000.0  ... -122.319           1690        7639\n",
              "2  5631500400  20150225T000000  180000.0  ... -122.233           2720        8062\n",
              "3  2487200875  20141209T000000  604000.0  ... -122.393           1360        5000\n",
              "4  1954400510  20150218T000000  510000.0  ... -122.045           1800        7503\n",
              "\n",
              "[5 rows x 21 columns]"
            ]
          },
          "metadata": {
            "tags": []
          },
          "execution_count": 3
        }
      ]
    },
    {
      "cell_type": "code",
      "metadata": {
        "id": "I-HlLZdRViyE",
        "colab": {
          "base_uri": "https://localhost:8080/",
          "height": 402
        },
        "outputId": "22ef1f71-8143-4b5d-966a-38584783470c"
      },
      "source": [
        "data = data[['price', 'sqft_living']]\r\n",
        "data"
      ],
      "execution_count": 4,
      "outputs": [
        {
          "output_type": "execute_result",
          "data": {
            "text/html": [
              "<div>\n",
              "<style scoped>\n",
              "    .dataframe tbody tr th:only-of-type {\n",
              "        vertical-align: middle;\n",
              "    }\n",
              "\n",
              "    .dataframe tbody tr th {\n",
              "        vertical-align: top;\n",
              "    }\n",
              "\n",
              "    .dataframe thead th {\n",
              "        text-align: right;\n",
              "    }\n",
              "</style>\n",
              "<table border=\"1\" class=\"dataframe\">\n",
              "  <thead>\n",
              "    <tr style=\"text-align: right;\">\n",
              "      <th></th>\n",
              "      <th>price</th>\n",
              "      <th>sqft_living</th>\n",
              "    </tr>\n",
              "  </thead>\n",
              "  <tbody>\n",
              "    <tr>\n",
              "      <th>0</th>\n",
              "      <td>221900.0</td>\n",
              "      <td>1180</td>\n",
              "    </tr>\n",
              "    <tr>\n",
              "      <th>1</th>\n",
              "      <td>538000.0</td>\n",
              "      <td>2570</td>\n",
              "    </tr>\n",
              "    <tr>\n",
              "      <th>2</th>\n",
              "      <td>180000.0</td>\n",
              "      <td>770</td>\n",
              "    </tr>\n",
              "    <tr>\n",
              "      <th>3</th>\n",
              "      <td>604000.0</td>\n",
              "      <td>1960</td>\n",
              "    </tr>\n",
              "    <tr>\n",
              "      <th>4</th>\n",
              "      <td>510000.0</td>\n",
              "      <td>1680</td>\n",
              "    </tr>\n",
              "    <tr>\n",
              "      <th>...</th>\n",
              "      <td>...</td>\n",
              "      <td>...</td>\n",
              "    </tr>\n",
              "    <tr>\n",
              "      <th>21608</th>\n",
              "      <td>360000.0</td>\n",
              "      <td>1530</td>\n",
              "    </tr>\n",
              "    <tr>\n",
              "      <th>21609</th>\n",
              "      <td>400000.0</td>\n",
              "      <td>2310</td>\n",
              "    </tr>\n",
              "    <tr>\n",
              "      <th>21610</th>\n",
              "      <td>402101.0</td>\n",
              "      <td>1020</td>\n",
              "    </tr>\n",
              "    <tr>\n",
              "      <th>21611</th>\n",
              "      <td>400000.0</td>\n",
              "      <td>1600</td>\n",
              "    </tr>\n",
              "    <tr>\n",
              "      <th>21612</th>\n",
              "      <td>325000.0</td>\n",
              "      <td>1020</td>\n",
              "    </tr>\n",
              "  </tbody>\n",
              "</table>\n",
              "<p>21613 rows × 2 columns</p>\n",
              "</div>"
            ],
            "text/plain": [
              "          price  sqft_living\n",
              "0      221900.0         1180\n",
              "1      538000.0         2570\n",
              "2      180000.0          770\n",
              "3      604000.0         1960\n",
              "4      510000.0         1680\n",
              "...         ...          ...\n",
              "21608  360000.0         1530\n",
              "21609  400000.0         2310\n",
              "21610  402101.0         1020\n",
              "21611  400000.0         1600\n",
              "21612  325000.0         1020\n",
              "\n",
              "[21613 rows x 2 columns]"
            ]
          },
          "metadata": {
            "tags": []
          },
          "execution_count": 4
        }
      ]
    },
    {
      "cell_type": "code",
      "metadata": {
        "id": "mwGxOJBiVmJI"
      },
      "source": [
        "from sklearn.preprocessing import StandardScaler\r\n",
        "\r\n",
        "scaler = StandardScaler()\r\n",
        "data = scaler.fit_transform(data)"
      ],
      "execution_count": 5,
      "outputs": []
    },
    {
      "cell_type": "code",
      "metadata": {
        "id": "Wy5_j8HZVo-G",
        "colab": {
          "base_uri": "https://localhost:8080/",
          "height": 402
        },
        "outputId": "2b1319f5-2fab-43c7-edad-ce1fdc8ac55a"
      },
      "source": [
        "data= pd.DataFrame(data=data, columns=[\"price\",\"sqft_living\"])\r\n",
        "data"
      ],
      "execution_count": 6,
      "outputs": [
        {
          "output_type": "execute_result",
          "data": {
            "text/html": [
              "<div>\n",
              "<style scoped>\n",
              "    .dataframe tbody tr th:only-of-type {\n",
              "        vertical-align: middle;\n",
              "    }\n",
              "\n",
              "    .dataframe tbody tr th {\n",
              "        vertical-align: top;\n",
              "    }\n",
              "\n",
              "    .dataframe thead th {\n",
              "        text-align: right;\n",
              "    }\n",
              "</style>\n",
              "<table border=\"1\" class=\"dataframe\">\n",
              "  <thead>\n",
              "    <tr style=\"text-align: right;\">\n",
              "      <th></th>\n",
              "      <th>price</th>\n",
              "      <th>sqft_living</th>\n",
              "    </tr>\n",
              "  </thead>\n",
              "  <tbody>\n",
              "    <tr>\n",
              "      <th>0</th>\n",
              "      <td>-0.866681</td>\n",
              "      <td>-0.979835</td>\n",
              "    </tr>\n",
              "    <tr>\n",
              "      <th>1</th>\n",
              "      <td>-0.005708</td>\n",
              "      <td>0.533634</td>\n",
              "    </tr>\n",
              "    <tr>\n",
              "      <th>2</th>\n",
              "      <td>-0.980806</td>\n",
              "      <td>-1.426254</td>\n",
              "    </tr>\n",
              "    <tr>\n",
              "      <th>3</th>\n",
              "      <td>0.174059</td>\n",
              "      <td>-0.130550</td>\n",
              "    </tr>\n",
              "    <tr>\n",
              "      <th>4</th>\n",
              "      <td>-0.081973</td>\n",
              "      <td>-0.435422</td>\n",
              "    </tr>\n",
              "    <tr>\n",
              "      <th>...</th>\n",
              "      <td>...</td>\n",
              "      <td>...</td>\n",
              "    </tr>\n",
              "    <tr>\n",
              "      <th>21608</th>\n",
              "      <td>-0.490533</td>\n",
              "      <td>-0.598746</td>\n",
              "    </tr>\n",
              "    <tr>\n",
              "      <th>21609</th>\n",
              "      <td>-0.381584</td>\n",
              "      <td>0.250539</td>\n",
              "    </tr>\n",
              "    <tr>\n",
              "      <th>21610</th>\n",
              "      <td>-0.375861</td>\n",
              "      <td>-1.154047</td>\n",
              "    </tr>\n",
              "    <tr>\n",
              "      <th>21611</th>\n",
              "      <td>-0.381584</td>\n",
              "      <td>-0.522528</td>\n",
              "    </tr>\n",
              "    <tr>\n",
              "      <th>21612</th>\n",
              "      <td>-0.585864</td>\n",
              "      <td>-1.154047</td>\n",
              "    </tr>\n",
              "  </tbody>\n",
              "</table>\n",
              "<p>21613 rows × 2 columns</p>\n",
              "</div>"
            ],
            "text/plain": [
              "          price  sqft_living\n",
              "0     -0.866681    -0.979835\n",
              "1     -0.005708     0.533634\n",
              "2     -0.980806    -1.426254\n",
              "3      0.174059    -0.130550\n",
              "4     -0.081973    -0.435422\n",
              "...         ...          ...\n",
              "21608 -0.490533    -0.598746\n",
              "21609 -0.381584     0.250539\n",
              "21610 -0.375861    -1.154047\n",
              "21611 -0.381584    -0.522528\n",
              "21612 -0.585864    -1.154047\n",
              "\n",
              "[21613 rows x 2 columns]"
            ]
          },
          "metadata": {
            "tags": []
          },
          "execution_count": 6
        }
      ]
    },
    {
      "cell_type": "code",
      "metadata": {
        "id": "X586Qa3RV1j3"
      },
      "source": [
        "from sklearn.model_selection import train_test_split\r\n",
        "x_train, x_test, y_train, y_test = train_test_split(data.iloc[:, 1], data.iloc[:, 0], test_size = 0.10, random_state = 42)"
      ],
      "execution_count": 7,
      "outputs": []
    },
    {
      "cell_type": "code",
      "metadata": {
        "id": "8cvIoOG7V5jj",
        "colab": {
          "base_uri": "https://localhost:8080/"
        },
        "outputId": "0aede59d-58a4-4552-e21e-e73126aa86fa"
      },
      "source": [
        "print(x_train.shape, y_train.shape, x_test.shape, y_test.shape)"
      ],
      "execution_count": 8,
      "outputs": [
        {
          "output_type": "stream",
          "text": [
            "(19451,) (19451,) (2162,) (2162,)\n"
          ],
          "name": "stdout"
        }
      ]
    },
    {
      "cell_type": "code",
      "metadata": {
        "id": "TszsehwdV8Iu"
      },
      "source": [
        "batch_size = 32\r\n",
        "n_minibatches = x_train.shape[0] // batch_size\r\n",
        "\r\n",
        "def create_mini_batches(x_tr, y_tr, batch_size):\r\n",
        "    mini_batches = [] \r\n",
        "    global n_minibatches\r\n",
        "    for i in range(n_minibatches + 1): \r\n",
        "        X_mini = x_tr.iloc[i * batch_size : (i + 1) * batch_size]\r\n",
        "        Y_mini = y_tr.iloc[i * batch_size : (i + 1) * batch_size]\r\n",
        "        mini_batches.append((X_mini, Y_mini)) \r\n",
        "        if x_tr.shape[0] % batch_size != 0:\r\n",
        "            X_mini = x_tr.iloc[i * batch_size: x_tr.shape[0]]\r\n",
        "            Y_mini  = y_tr.iloc[i * batch_size: y_tr.shape[0]]\r\n",
        "        mini_batches.append((X_mini,Y_mini)) \r\n",
        "    return mini_batches \r\n",
        "\r\n",
        "mini_batches_all = create_mini_batches(x_train, y_train, batch_size)"
      ],
      "execution_count": 9,
      "outputs": []
    },
    {
      "cell_type": "code",
      "metadata": {
        "id": "mrTh_9PtV__f",
        "colab": {
          "base_uri": "https://localhost:8080/"
        },
        "outputId": "443eeb58-ae83-45e6-f161-d5405fa5f766"
      },
      "source": [
        "m = 1 #Initial value of slope\r\n",
        "c = -1 #Initial value of intercept\r\n",
        "lr = 0.1 #Learning Rate\r\n",
        "delta_m = 1 #Initialising Δm\r\n",
        "delta_c = 1 #Initialising Δc\r\n",
        "max_iters = 10 #Maximum number of iterations  \r\n",
        "iters_count = 0 #Counting Iterations\r\n",
        "\r\n",
        "\r\n",
        "def deriv(m_f, c_f, datax, datay):\r\n",
        "    m_deriv = 0\r\n",
        "    c_deriv = 0\r\n",
        "    for i in range(datax.shape[0]):\r\n",
        "        x, y = datax.iloc[i], datay.iloc[i]\r\n",
        "        m_deriv += (y-m_f*x-c_f)*x\r\n",
        "        c_deriv += (y-m_f*x-c_f)\r\n",
        "        m_deriv = -m_deriv/len(datax)\r\n",
        "        c_deriv = -c_deriv/len(datay)\r\n",
        "    return m_deriv, c_deriv  \r\n",
        "\r\n",
        "\r\n",
        "while iters_count < max_iters:\r\n",
        "    for i in range(n_minibatches):\r\n",
        "        x_b, y_b = mini_batches_all[i]\r\n",
        "        delta_m, delta_c = deriv(m, c, x_b, y_b)\r\n",
        "        delta_m = -lr * delta_m\r\n",
        "        delta_c = -lr * delta_c\r\n",
        "        m += delta_m\r\n",
        "        c += delta_c\r\n",
        "    iters_count += 1\r\n",
        "    print(f\"Iteration: {iters_count}\\tValue of m: {m}, \\tValue of c: {c}\")\r\n",
        "\r\n",
        "print(f\"\\nThe local minima occurs at: {m}, {c}\")"
      ],
      "execution_count": 10,
      "outputs": [
        {
          "output_type": "stream",
          "text": [
            "Iteration: 1\tValue of m: 0.7855881817612184, \tValue of c: -0.42621975053772676\n",
            "Iteration: 2\tValue of m: 0.6993881463525335, \tValue of c: -0.1997910290102009\n",
            "Iteration: 3\tValue of m: 0.6647175647317495, \tValue of c: -0.11044252405839473\n",
            "Iteration: 4\tValue of m: 0.6507663708217768, \tValue of c: -0.07518827330361025\n",
            "Iteration: 5\tValue of m: 0.6451499501673154, \tValue of c: -0.06127905872636808\n",
            "Iteration: 6\tValue of m: 0.6428878743633883, \tValue of c: -0.05579175421936221\n",
            "Iteration: 7\tValue of m: 0.6419763777739348, \tValue of c: -0.05362714657452013\n",
            "Iteration: 8\tValue of m: 0.6416089227224974, \tValue of c: -0.05277333657384936\n",
            "Iteration: 9\tValue of m: 0.6414607202644524, \tValue of c: -0.05243658985847545\n",
            "Iteration: 10\tValue of m: 0.6414009191680222, \tValue of c: -0.05230378815595178\n",
            "\n",
            "The local minima occurs at: 0.6414009191680222, -0.05230378815595178\n"
          ],
          "name": "stdout"
        }
      ]
    },
    {
      "cell_type": "code",
      "metadata": {
        "id": "QaYo_K5IWKj1"
      },
      "source": [
        "import numpy as np\r\n",
        "\r\n",
        "x_train = np.array(x_train)\r\n",
        "y_train = np.array(y_train)\r\n",
        "x_test = np.array(x_test)\r\n",
        "y_test = np.array(y_test)"
      ],
      "execution_count": 11,
      "outputs": []
    },
    {
      "cell_type": "code",
      "metadata": {
        "id": "RcCSwSmQWX7-"
      },
      "source": [
        "\r\n",
        "y_pred_train = []\r\n",
        "for i in x_train:\r\n",
        "  y_p_tr = (m * i) - c\r\n",
        "  y_pred_train.append(y_p_tr)\r\n",
        "y_pred_train = np.array(y_pred_train)"
      ],
      "execution_count": 12,
      "outputs": []
    },
    {
      "cell_type": "code",
      "metadata": {
        "id": "LMveyYwWWacz"
      },
      "source": [
        "y_pred_test = []\r\n",
        "for i in x_test:\r\n",
        "  y_p_te = (m * i) - c\r\n",
        "  y_pred_test.append(y_p_te)\r\n",
        "y_pred_test = np.array(y_pred_test)\r\n"
      ],
      "execution_count": 13,
      "outputs": []
    },
    {
      "cell_type": "code",
      "metadata": {
        "id": "chNJ0eeaWeDd",
        "colab": {
          "base_uri": "https://localhost:8080/"
        },
        "outputId": "1d98502d-bedf-4b88-b9fa-35288e2eb2d8"
      },
      "source": [
        "import math\r\n",
        "from sklearn.metrics import mean_squared_error \r\n",
        "from sklearn.metrics import mean_absolute_error\r\n",
        "\r\n",
        "\r\n",
        "#Training Accuracies\r\n",
        "mse = math.sqrt(mean_squared_error(y_train, y_pred_train)) \r\n",
        "print('Root mean square error', mse) \r\n",
        "mse = (mean_squared_error(y_train, y_pred_train)) \r\n",
        "print('Mean square error', mse) \r\n",
        "mae=mean_absolute_error(y_train, y_pred_train)\r\n",
        "print('Mean absolute error', mae)"
      ],
      "execution_count": 14,
      "outputs": [
        {
          "output_type": "stream",
          "text": [
            "Root mean square error 0.711374810430384\n",
            "Mean square error 0.5060541209148648\n",
            "Mean absolute error 0.47168187994957317\n"
          ],
          "name": "stdout"
        }
      ]
    },
    {
      "cell_type": "code",
      "metadata": {
        "id": "aKbIDM03WkKH",
        "colab": {
          "base_uri": "https://localhost:8080/"
        },
        "outputId": "1f965d1c-e4dc-4903-f006-9b10b35fda25"
      },
      "source": [
        "#Testing Accuracies\r\n",
        "mse = math.sqrt(mean_squared_error(y_test, y_pred_test)) \r\n",
        "print('Root mean square error', mse) \r\n",
        "mse = (mean_squared_error(y_test, y_pred_test)) \r\n",
        "print('Mean square error', mse) \r\n",
        "mae=mean_absolute_error(y_test, y_pred_test)\r\n",
        "print('Mean absolute error', mae)"
      ],
      "execution_count": 15,
      "outputs": [
        {
          "output_type": "stream",
          "text": [
            "Root mean square error 0.7621200740860146\n",
            "Mean square error 0.5808270073248724\n",
            "Mean absolute error 0.4919983891378863\n"
          ],
          "name": "stdout"
        }
      ]
    }
  ]
}